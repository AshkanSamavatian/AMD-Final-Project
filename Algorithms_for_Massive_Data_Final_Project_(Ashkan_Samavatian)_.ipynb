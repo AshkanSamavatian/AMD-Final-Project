{
  "cells": [
    {
      "cell_type": "markdown",
      "metadata": {
        "id": "view-in-github",
        "colab_type": "text"
      },
      "source": [
        "<a href=\"https://colab.research.google.com/github/AshkanSamavatian/AMD-Final-Project/blob/main/Algorithms_for_Massive_Data_Final_Project_(Ashkan_Samavatian)_.ipynb\" target=\"_parent\"><img src=\"https://colab.research.google.com/assets/colab-badge.svg\" alt=\"Open In Colab\"/></a>"
      ]
    },
    {
      "cell_type": "markdown",
      "metadata": {
        "id": "Ix84h66jgtMs"
      },
      "source": [
        "### **Importing necessary libraries and Import Data from Kaggle**"
      ]
    },
    {
      "cell_type": "code",
      "execution_count": 3,
      "metadata": {
        "id": "fZS2dmibpgxL"
      },
      "outputs": [],
      "source": [
        "#Importing necessary libraries for the project\n",
        "import os\n",
        "import sys\n",
        "import pandas as pd\n",
        "import numpy as np\n",
        "import warnings\n",
        "warnings.filterwarnings(\"ignore\", category=FutureWarning)"
      ]
    },
    {
      "cell_type": "code",
      "execution_count": 2,
      "metadata": {
        "colab": {
          "base_uri": "https://localhost:8080/"
        },
        "id": "Jm4U3gmep7Vl",
        "outputId": "3f1e623f-72ad-4db0-ceb5-2c256967e469"
      },
      "outputs": [
        {
          "output_type": "stream",
          "name": "stdout",
          "text": [
            "Downloading medal-emnlp.zip to /content\n",
            "100% 6.82G/6.82G [03:42<00:00, 36.2MB/s]\n",
            "100% 6.82G/6.82G [03:43<00:00, 32.8MB/s]\n"
          ]
        }
      ],
      "source": [
        "#Importing Dataset from Kaggle website with my kaggle_username and kaggle_key\n",
        "os.environ['KAGGLE_USERNAME'] = \"ashkansam\"      #For presenteing the project, I substituted my kaggle username with \"*****\"\n",
        "os.environ['KAGGLE_KEY'] = \"e7d90846728fb2b990e1cea1412d357e\"          #For presenteing the project, I substituted my kaggle key with \"*****\"\n",
        "!kaggle datasets download -d xhlulu/medal-emnlp"
      ]
    },
    {
      "cell_type": "code",
      "execution_count": 4,
      "metadata": {
        "colab": {
          "base_uri": "https://localhost:8080/"
        },
        "id": "pLCPag5lqbSb",
        "outputId": "48562751-a690-40c6-e415-f26c506afbdc"
      },
      "outputs": [
        {
          "output_type": "stream",
          "name": "stdout",
          "text": [
            "Archive:  medal-emnlp.zip\n",
            "  inflating: full_data.csv           \n"
          ]
        }
      ],
      "source": [
        "#Unzipping only the \"full_data.csv\" file\n",
        "!unzip medal-emnlp.zip full_data.csv"
      ]
    },
    {
      "cell_type": "markdown",
      "metadata": {
        "id": "49taN88St3ue"
      },
      "source": [
        "### **Extracting a subset for the project**"
      ]
    },
    {
      "cell_type": "code",
      "execution_count": 5,
      "metadata": {
        "id": "ZrhtftRUrklt"
      },
      "outputs": [],
      "source": [
        "#Reading and storing the dataset (trimmed down version)\n",
        "sample_fraction = 0.1\n",
        "MeDAL_df = pd.read_csv(\"full_data.csv\", skiprows=lambda i: i>0 and np.random.rand() > sample_fraction)\n",
        "\n",
        "#MeDAL_df=pd.read_csv(\"full_data.csv\")    #My first code in this section"
      ]
    },
    {
      "cell_type": "code",
      "execution_count": 6,
      "metadata": {
        "id": "KS7ihBX6sa6O"
      },
      "outputs": [],
      "source": [
        "#Extracting a random subset and reseting all the indexes in the subset\n",
        "MeDAL_subset_df = MeDAL_df.sample(n=10000)\n",
        "MeDAL_subset_df = MeDAL_subset_df.reset_index(drop=True)"
      ]
    },
    {
      "cell_type": "code",
      "execution_count": 7,
      "metadata": {
        "colab": {
          "base_uri": "https://localhost:8080/",
          "height": 206
        },
        "id": "LCtjO0N9tlYI",
        "outputId": "a402d9f7-8cc4-4e99-feef-c184c9c2dc7f"
      },
      "outputs": [
        {
          "output_type": "execute_result",
          "data": {
            "text/plain": [
              "                                                TEXT     LOCATION  \\\n",
              "0  stable isotope probing sip is a method used fo...  21|28|40|80   \n",
              "1  a genomic library of mycobacterium smegmatis d...           54   \n",
              "2  genetic responsibility has emerged as a key no...           17   \n",
              "3  honey bee apis mellifera workers are character...           10   \n",
              "4  in the years since it was first described CP r...   8|43|51|68   \n",
              "\n",
              "                                               LABEL  \n",
              "0                substrate|after|substrate|substrate  \n",
              "1                                           physical  \n",
              "2                                     identification  \n",
              "3                                           behavior  \n",
              "4  cardiopulmonary|history|sudden cardiac arrest|...  "
            ],
            "text/html": [
              "\n",
              "  <div id=\"df-18b2e391-ba3b-408f-aa5d-848c6b1791ff\" class=\"colab-df-container\">\n",
              "    <div>\n",
              "<style scoped>\n",
              "    .dataframe tbody tr th:only-of-type {\n",
              "        vertical-align: middle;\n",
              "    }\n",
              "\n",
              "    .dataframe tbody tr th {\n",
              "        vertical-align: top;\n",
              "    }\n",
              "\n",
              "    .dataframe thead th {\n",
              "        text-align: right;\n",
              "    }\n",
              "</style>\n",
              "<table border=\"1\" class=\"dataframe\">\n",
              "  <thead>\n",
              "    <tr style=\"text-align: right;\">\n",
              "      <th></th>\n",
              "      <th>TEXT</th>\n",
              "      <th>LOCATION</th>\n",
              "      <th>LABEL</th>\n",
              "    </tr>\n",
              "  </thead>\n",
              "  <tbody>\n",
              "    <tr>\n",
              "      <th>0</th>\n",
              "      <td>stable isotope probing sip is a method used fo...</td>\n",
              "      <td>21|28|40|80</td>\n",
              "      <td>substrate|after|substrate|substrate</td>\n",
              "    </tr>\n",
              "    <tr>\n",
              "      <th>1</th>\n",
              "      <td>a genomic library of mycobacterium smegmatis d...</td>\n",
              "      <td>54</td>\n",
              "      <td>physical</td>\n",
              "    </tr>\n",
              "    <tr>\n",
              "      <th>2</th>\n",
              "      <td>genetic responsibility has emerged as a key no...</td>\n",
              "      <td>17</td>\n",
              "      <td>identification</td>\n",
              "    </tr>\n",
              "    <tr>\n",
              "      <th>3</th>\n",
              "      <td>honey bee apis mellifera workers are character...</td>\n",
              "      <td>10</td>\n",
              "      <td>behavior</td>\n",
              "    </tr>\n",
              "    <tr>\n",
              "      <th>4</th>\n",
              "      <td>in the years since it was first described CP r...</td>\n",
              "      <td>8|43|51|68</td>\n",
              "      <td>cardiopulmonary|history|sudden cardiac arrest|...</td>\n",
              "    </tr>\n",
              "  </tbody>\n",
              "</table>\n",
              "</div>\n",
              "    <div class=\"colab-df-buttons\">\n",
              "\n",
              "  <div class=\"colab-df-container\">\n",
              "    <button class=\"colab-df-convert\" onclick=\"convertToInteractive('df-18b2e391-ba3b-408f-aa5d-848c6b1791ff')\"\n",
              "            title=\"Convert this dataframe to an interactive table.\"\n",
              "            style=\"display:none;\">\n",
              "\n",
              "  <svg xmlns=\"http://www.w3.org/2000/svg\" height=\"24px\" viewBox=\"0 -960 960 960\">\n",
              "    <path d=\"M120-120v-720h720v720H120Zm60-500h600v-160H180v160Zm220 220h160v-160H400v160Zm0 220h160v-160H400v160ZM180-400h160v-160H180v160Zm440 0h160v-160H620v160ZM180-180h160v-160H180v160Zm440 0h160v-160H620v160Z\"/>\n",
              "  </svg>\n",
              "    </button>\n",
              "\n",
              "  <style>\n",
              "    .colab-df-container {\n",
              "      display:flex;\n",
              "      gap: 12px;\n",
              "    }\n",
              "\n",
              "    .colab-df-convert {\n",
              "      background-color: #E8F0FE;\n",
              "      border: none;\n",
              "      border-radius: 50%;\n",
              "      cursor: pointer;\n",
              "      display: none;\n",
              "      fill: #1967D2;\n",
              "      height: 32px;\n",
              "      padding: 0 0 0 0;\n",
              "      width: 32px;\n",
              "    }\n",
              "\n",
              "    .colab-df-convert:hover {\n",
              "      background-color: #E2EBFA;\n",
              "      box-shadow: 0px 1px 2px rgba(60, 64, 67, 0.3), 0px 1px 3px 1px rgba(60, 64, 67, 0.15);\n",
              "      fill: #174EA6;\n",
              "    }\n",
              "\n",
              "    .colab-df-buttons div {\n",
              "      margin-bottom: 4px;\n",
              "    }\n",
              "\n",
              "    [theme=dark] .colab-df-convert {\n",
              "      background-color: #3B4455;\n",
              "      fill: #D2E3FC;\n",
              "    }\n",
              "\n",
              "    [theme=dark] .colab-df-convert:hover {\n",
              "      background-color: #434B5C;\n",
              "      box-shadow: 0px 1px 3px 1px rgba(0, 0, 0, 0.15);\n",
              "      filter: drop-shadow(0px 1px 2px rgba(0, 0, 0, 0.3));\n",
              "      fill: #FFFFFF;\n",
              "    }\n",
              "  </style>\n",
              "\n",
              "    <script>\n",
              "      const buttonEl =\n",
              "        document.querySelector('#df-18b2e391-ba3b-408f-aa5d-848c6b1791ff button.colab-df-convert');\n",
              "      buttonEl.style.display =\n",
              "        google.colab.kernel.accessAllowed ? 'block' : 'none';\n",
              "\n",
              "      async function convertToInteractive(key) {\n",
              "        const element = document.querySelector('#df-18b2e391-ba3b-408f-aa5d-848c6b1791ff');\n",
              "        const dataTable =\n",
              "          await google.colab.kernel.invokeFunction('convertToInteractive',\n",
              "                                                    [key], {});\n",
              "        if (!dataTable) return;\n",
              "\n",
              "        const docLinkHtml = 'Like what you see? Visit the ' +\n",
              "          '<a target=\"_blank\" href=https://colab.research.google.com/notebooks/data_table.ipynb>data table notebook</a>'\n",
              "          + ' to learn more about interactive tables.';\n",
              "        element.innerHTML = '';\n",
              "        dataTable['output_type'] = 'display_data';\n",
              "        await google.colab.output.renderOutput(dataTable, element);\n",
              "        const docLink = document.createElement('div');\n",
              "        docLink.innerHTML = docLinkHtml;\n",
              "        element.appendChild(docLink);\n",
              "      }\n",
              "    </script>\n",
              "  </div>\n",
              "\n",
              "\n",
              "<div id=\"df-2b88d52b-258c-4563-a5a4-845bd1221d88\">\n",
              "  <button class=\"colab-df-quickchart\" onclick=\"quickchart('df-2b88d52b-258c-4563-a5a4-845bd1221d88')\"\n",
              "            title=\"Suggest charts.\"\n",
              "            style=\"display:none;\">\n",
              "\n",
              "<svg xmlns=\"http://www.w3.org/2000/svg\" height=\"24px\"viewBox=\"0 0 24 24\"\n",
              "     width=\"24px\">\n",
              "    <g>\n",
              "        <path d=\"M19 3H5c-1.1 0-2 .9-2 2v14c0 1.1.9 2 2 2h14c1.1 0 2-.9 2-2V5c0-1.1-.9-2-2-2zM9 17H7v-7h2v7zm4 0h-2V7h2v10zm4 0h-2v-4h2v4z\"/>\n",
              "    </g>\n",
              "</svg>\n",
              "  </button>\n",
              "\n",
              "<style>\n",
              "  .colab-df-quickchart {\n",
              "      --bg-color: #E8F0FE;\n",
              "      --fill-color: #1967D2;\n",
              "      --hover-bg-color: #E2EBFA;\n",
              "      --hover-fill-color: #174EA6;\n",
              "      --disabled-fill-color: #AAA;\n",
              "      --disabled-bg-color: #DDD;\n",
              "  }\n",
              "\n",
              "  [theme=dark] .colab-df-quickchart {\n",
              "      --bg-color: #3B4455;\n",
              "      --fill-color: #D2E3FC;\n",
              "      --hover-bg-color: #434B5C;\n",
              "      --hover-fill-color: #FFFFFF;\n",
              "      --disabled-bg-color: #3B4455;\n",
              "      --disabled-fill-color: #666;\n",
              "  }\n",
              "\n",
              "  .colab-df-quickchart {\n",
              "    background-color: var(--bg-color);\n",
              "    border: none;\n",
              "    border-radius: 50%;\n",
              "    cursor: pointer;\n",
              "    display: none;\n",
              "    fill: var(--fill-color);\n",
              "    height: 32px;\n",
              "    padding: 0;\n",
              "    width: 32px;\n",
              "  }\n",
              "\n",
              "  .colab-df-quickchart:hover {\n",
              "    background-color: var(--hover-bg-color);\n",
              "    box-shadow: 0 1px 2px rgba(60, 64, 67, 0.3), 0 1px 3px 1px rgba(60, 64, 67, 0.15);\n",
              "    fill: var(--button-hover-fill-color);\n",
              "  }\n",
              "\n",
              "  .colab-df-quickchart-complete:disabled,\n",
              "  .colab-df-quickchart-complete:disabled:hover {\n",
              "    background-color: var(--disabled-bg-color);\n",
              "    fill: var(--disabled-fill-color);\n",
              "    box-shadow: none;\n",
              "  }\n",
              "\n",
              "  .colab-df-spinner {\n",
              "    border: 2px solid var(--fill-color);\n",
              "    border-color: transparent;\n",
              "    border-bottom-color: var(--fill-color);\n",
              "    animation:\n",
              "      spin 1s steps(1) infinite;\n",
              "  }\n",
              "\n",
              "  @keyframes spin {\n",
              "    0% {\n",
              "      border-color: transparent;\n",
              "      border-bottom-color: var(--fill-color);\n",
              "      border-left-color: var(--fill-color);\n",
              "    }\n",
              "    20% {\n",
              "      border-color: transparent;\n",
              "      border-left-color: var(--fill-color);\n",
              "      border-top-color: var(--fill-color);\n",
              "    }\n",
              "    30% {\n",
              "      border-color: transparent;\n",
              "      border-left-color: var(--fill-color);\n",
              "      border-top-color: var(--fill-color);\n",
              "      border-right-color: var(--fill-color);\n",
              "    }\n",
              "    40% {\n",
              "      border-color: transparent;\n",
              "      border-right-color: var(--fill-color);\n",
              "      border-top-color: var(--fill-color);\n",
              "    }\n",
              "    60% {\n",
              "      border-color: transparent;\n",
              "      border-right-color: var(--fill-color);\n",
              "    }\n",
              "    80% {\n",
              "      border-color: transparent;\n",
              "      border-right-color: var(--fill-color);\n",
              "      border-bottom-color: var(--fill-color);\n",
              "    }\n",
              "    90% {\n",
              "      border-color: transparent;\n",
              "      border-bottom-color: var(--fill-color);\n",
              "    }\n",
              "  }\n",
              "</style>\n",
              "\n",
              "  <script>\n",
              "    async function quickchart(key) {\n",
              "      const quickchartButtonEl =\n",
              "        document.querySelector('#' + key + ' button');\n",
              "      quickchartButtonEl.disabled = true;  // To prevent multiple clicks.\n",
              "      quickchartButtonEl.classList.add('colab-df-spinner');\n",
              "      try {\n",
              "        const charts = await google.colab.kernel.invokeFunction(\n",
              "            'suggestCharts', [key], {});\n",
              "      } catch (error) {\n",
              "        console.error('Error during call to suggestCharts:', error);\n",
              "      }\n",
              "      quickchartButtonEl.classList.remove('colab-df-spinner');\n",
              "      quickchartButtonEl.classList.add('colab-df-quickchart-complete');\n",
              "    }\n",
              "    (() => {\n",
              "      let quickchartButtonEl =\n",
              "        document.querySelector('#df-2b88d52b-258c-4563-a5a4-845bd1221d88 button');\n",
              "      quickchartButtonEl.style.display =\n",
              "        google.colab.kernel.accessAllowed ? 'block' : 'none';\n",
              "    })();\n",
              "  </script>\n",
              "</div>\n",
              "    </div>\n",
              "  </div>\n"
            ]
          },
          "metadata": {},
          "execution_count": 7
        }
      ],
      "source": [
        "#Monitoring the subset\n",
        "MeDAL_subset_df.head()"
      ]
    },
    {
      "cell_type": "code",
      "execution_count": 8,
      "metadata": {
        "colab": {
          "base_uri": "https://localhost:8080/"
        },
        "id": "ndfxS790tpch",
        "outputId": "9f210dc3-eaf9-4962-b27b-0ba76c576f85"
      },
      "outputs": [
        {
          "output_type": "stream",
          "name": "stdout",
          "text": [
            "<class 'pandas.core.frame.DataFrame'>\n",
            "RangeIndex: 10000 entries, 0 to 9999\n",
            "Data columns (total 3 columns):\n",
            " #   Column    Non-Null Count  Dtype \n",
            "---  ------    --------------  ----- \n",
            " 0   TEXT      10000 non-null  object\n",
            " 1   LOCATION  10000 non-null  object\n",
            " 2   LABEL     10000 non-null  object\n",
            "dtypes: object(3)\n",
            "memory usage: 234.5+ KB\n"
          ]
        }
      ],
      "source": [
        "#Overviewing the subset\n",
        "MeDAL_subset_df.info()"
      ]
    },
    {
      "cell_type": "code",
      "execution_count": 9,
      "metadata": {
        "id": "cRcbn8WhtrZR"
      },
      "outputs": [],
      "source": [
        "#Saving the subset to CSV format for the upcoming processes\n",
        "MeDAL_subset_df.to_csv('MeDAL_subset_df.csv', index=False)"
      ]
    },
    {
      "cell_type": "markdown",
      "metadata": {
        "id": "ATUa_SVRhDTq"
      },
      "source": [
        "### **PySpark Setup**"
      ]
    },
    {
      "cell_type": "code",
      "execution_count": 10,
      "metadata": {
        "id": "3_a6ee21tvQx"
      },
      "outputs": [],
      "source": [
        "#Setup Java, Downloading Spark, Extracting its files and Installing FindSpark\n",
        "!apt-get install openjdk-8-jdk-headless -qq > /dev/null\n",
        "!wget -q https://archive.apache.org/dist/spark/spark-3.2.0/spark-3.2.0-bin-hadoop3.2.tgz\n",
        "!tar xf spark-3.2.0-bin-hadoop3.2.tgz\n",
        "!pip install -q findspark"
      ]
    },
    {
      "cell_type": "code",
      "execution_count": 11,
      "metadata": {
        "id": "cN8dZUJpuYI7"
      },
      "outputs": [],
      "source": [
        "#Setting the Environment Paths\n",
        "os.environ[\"JAVA_HOME\"] = \"/usr/lib/jvm/java-8-openjdk-amd64\"\n",
        "os.environ[\"JAVA_OPTS\"] = \"-Xms512m -Xmx4g\"\n",
        "os.environ[\"SPARK_HOME\"] = \"/content/spark-3.2.0-bin-hadoop3.2\"\n",
        "os.environ['PYSPARK_PYTHON'] = sys.executable\n",
        "os.environ['PYSPARK_DRIVER_PYTHON'] = sys.executable"
      ]
    },
    {
      "cell_type": "code",
      "execution_count": 12,
      "metadata": {
        "id": "0npgA3BHusQi"
      },
      "outputs": [],
      "source": [
        "#Initializing FindSpark\n",
        "import findspark\n",
        "findspark.init()"
      ]
    },
    {
      "cell_type": "code",
      "execution_count": 13,
      "metadata": {
        "id": "NphQgoXtRwJA"
      },
      "outputs": [],
      "source": [
        "#Importing necessary libraries for PySpark\n",
        "from pyspark.sql import SparkSession, Window\n",
        "from pyspark.sql.functions import lower, regexp_replace, concat_ws, udf, col, size, sum as sql_sum, abs, row_number, monotonically_increasing_id\n",
        "from pyspark.sql.types import ArrayType, StringType\n",
        "from pyspark.ml.feature import Tokenizer, StopWordsRemover, MinHashLSH, CountVectorizer\n",
        "from pyspark.ml.linalg import SparseVector"
      ]
    },
    {
      "cell_type": "code",
      "execution_count": 14,
      "metadata": {
        "id": "GSjaAikAuvjt"
      },
      "outputs": [],
      "source": [
        "#Starting a PySpark Session\n",
        "spark = SparkSession.builder \\\n",
        "    .master(\"local[*]\") \\\n",
        "    .appName('AMDProject') \\\n",
        "    .config(\"spark.driver.memory\", \"10g\") \\\n",
        "    .config(\"spark.executor.memory\", \"10g\") \\\n",
        "    .config(\"spark.default.parallelism\", \"100\") \\\n",
        "    .getOrCreate()"
      ]
    },
    {
      "cell_type": "markdown",
      "metadata": {
        "id": "Fn4bpRR8oFa7"
      },
      "source": [
        "### **The Main Process on the subset**"
      ]
    },
    {
      "cell_type": "code",
      "execution_count": 15,
      "metadata": {
        "id": "fUMLrOK-uyuV"
      },
      "outputs": [],
      "source": [
        "#Loading the subset on PySpark\n",
        "df = spark.read.csv(\"MeDAL_subset_df.csv\", header=True, inferSchema=True)"
      ]
    },
    {
      "cell_type": "code",
      "execution_count": 16,
      "metadata": {
        "id": "lTHvV61pteQU"
      },
      "outputs": [],
      "source": [
        "#\"TEXT\" column preprocessing\n",
        "df = df.withColumn(\"TEXT\", lower(col(\"TEXT\")))  #Convert to lowercase\n",
        "df = df.withColumn(\"TEXT\", regexp_replace(col(\"TEXT\"), '[^a-zA-Z\\s]', ' ')) #remove the punctuations\n",
        "\n",
        "#Tokenizing the \"TEXT\" column\n",
        "tokenizer = Tokenizer(inputCol=\"TEXT\", outputCol=\"tokenized_TEXT\")\n",
        "df = tokenizer.transform(df)\n",
        "\n",
        "#Removing the stop words\n",
        "remover = StopWordsRemover(inputCol=\"tokenized_TEXT\", outputCol=\"filtered_TEXT\")\n",
        "df = remover.transform(df)\n",
        "\n",
        "#Concatenating the words back together\n",
        "df = df.withColumn(\"filtered_TEXT_str\", concat_ws(\" \", col(\"filtered_TEXT\")))"
      ]
    },
    {
      "cell_type": "code",
      "execution_count": 17,
      "metadata": {
        "colab": {
          "base_uri": "https://localhost:8080/"
        },
        "id": "JF1wHv1rvagC",
        "outputId": "6a300c73-a879-4dcb-fa7d-6d89b18367c7"
      },
      "outputs": [
        {
          "output_type": "stream",
          "name": "stdout",
          "text": [
            "+--------------------+--------------------+--------------------+--------------------+--------------------+--------------------+\n",
            "|                TEXT|            LOCATION|               LABEL|      tokenized_TEXT|       filtered_TEXT|   filtered_TEXT_str|\n",
            "+--------------------+--------------------+--------------------+--------------------+--------------------+--------------------+\n",
            "|stable isotope pr...|         21|28|40|80|substrate|after|s...|[stable, isotope,...|[stable, isotope,...|stable isotope pr...|\n",
            "|a genomic library...|                  54|            physical|[a, genomic, libr...|[genomic, library...|genomic library m...|\n",
            "|genetic responsib...|                  17|      identification|[genetic, respons...|[genetic, respons...|genetic responsib...|\n",
            "|honey bee apis me...|                  10|            behavior|[honey, bee, apis...|[honey, bee, apis...|honey bee apis me...|\n",
            "|in the years sinc...|          8|43|51|68|cardiopulmonary|h...|[in, the, years, ...|[years, since, fi...|years since first...|\n",
            "|plants and deriva...|             123|141|        areas|energy|[plants, and, der...|[plants, derivati...|plants derivative...|\n",
            "|the tensionfree v...|          86|277|299|infected|study|after|[the, tensionfree...|[tensionfree, vag...|tensionfree vagin...|\n",
            "|a yearold male pa...|5|25|31|32|56|57|...|stable angina pec...|[a, yearold, male...|[yearold, male, p...|yearold male pati...|\n",
            "|for structurebase...|            43|64|99|approach|approach...|[for, structureba...|[structurebased, ...|structurebased dr...|\n",
            "|restoration of vo...|                  30|               after|[restoration, of,...|[restoration, vol...|restoration volit...|\n",
            "|to investigate th...|            46|57|98|precursor|realtim...|[to, investigate,...|[investigate, rol...|investigate role ...|\n",
            "|this article outl...|                  72|            symptoms|[this, article, o...|[article, outline...|article outlines ...|\n",
            "|questionnaires on...|          49|124|145|proguanil|general...|[questionnaires, ...|[questionnaires, ...|questionnaires va...|\n",
            "|peptide mapping o...|             9|77|98|after|pituitary|c...|[peptide, mapping...|[peptide, mapping...|peptide mapping i...|\n",
            "|the synthesis in ...|         5|11|75|121|evaluation|compou...|[the, synthesis, ...|[synthesis, vitro...|synthesis vitro a...|\n",
            "|using local anaes...|            23|56|76|side effects|loca...|[using, local, an...|[using, local, an...|using local anaes...|\n",
            "|ftir and raman sp...|             110|179| stable|experimental|[ftir, and, raman...|[ftir, raman, spe...|ftir raman spectr...|\n",
            "|the aqueous metha...|               13|81|inhibitory|inhibi...|[the, aqueous, me...|[aqueous, methano...|aqueous methanoli...|\n",
            "|photoreceptor pr ...|      6|64|74|77|133|nutritional suppo...|[photoreceptor, p...|[photoreceptor, p...|photoreceptor pr ...|\n",
            "|in experiments we...|            9|86|198|function|frontal|...|[in, experiments,...|[experiments, exa...|experiments exami...|\n",
            "+--------------------+--------------------+--------------------+--------------------+--------------------+--------------------+\n",
            "only showing top 20 rows\n",
            "\n"
          ]
        }
      ],
      "source": [
        "#Monitoring the subset on PySpark after the preprocessing processes\n",
        "df.show()"
      ]
    },
    {
      "cell_type": "code",
      "execution_count": 18,
      "metadata": {
        "colab": {
          "base_uri": "https://localhost:8080/"
        },
        "id": "BYmkec33vni_",
        "outputId": "7cc4007d-0206-4b79-b2b7-055ab8b98edf"
      },
      "outputs": [
        {
          "output_type": "stream",
          "name": "stdout",
          "text": [
            "root\n",
            " |-- TEXT: string (nullable = true)\n",
            " |-- LOCATION: string (nullable = true)\n",
            " |-- LABEL: string (nullable = true)\n",
            " |-- tokenized_TEXT: array (nullable = true)\n",
            " |    |-- element: string (containsNull = true)\n",
            " |-- filtered_TEXT: array (nullable = true)\n",
            " |    |-- element: string (containsNull = true)\n",
            " |-- filtered_TEXT_str: string (nullable = false)\n",
            "\n"
          ]
        }
      ],
      "source": [
        "#Overviewing the subset on PySpark after the preprocessing processes\n",
        "df.printSchema()"
      ]
    },
    {
      "cell_type": "code",
      "execution_count": 19,
      "metadata": {
        "colab": {
          "base_uri": "https://localhost:8080/"
        },
        "id": "3XIlXh9Ivtdw",
        "outputId": "99ea8d58-4590-4349-bf52-af56db283966"
      },
      "outputs": [
        {
          "output_type": "execute_result",
          "data": {
            "text/plain": [
              "10000"
            ]
          },
          "metadata": {},
          "execution_count": 19
        }
      ],
      "source": [
        "#Checking again the number of the rows in the subset\n",
        "df.count()"
      ]
    },
    {
      "cell_type": "code",
      "execution_count": 20,
      "metadata": {
        "id": "yv4qOklFvwuv"
      },
      "outputs": [],
      "source": [
        "#Applying Shingling process on the subset\n",
        "\n",
        "k = 10\n",
        "\n",
        "def shingle_document(string):\n",
        "    return [string[i:i+k] for i in range(len(string) - k + 1)]\n",
        "\n",
        "shingle_udf = udf(shingle_document, ArrayType(StringType()))\n",
        "\n",
        "df_shingled = df.withColumn(\"shingles\", shingle_udf(df[\"filtered_TEXT_str\"]))"
      ]
    },
    {
      "cell_type": "code",
      "execution_count": 21,
      "metadata": {
        "id": "QQhpIHQ4wRoI"
      },
      "outputs": [],
      "source": [
        "#Converting shingles to vectors for minhash\n",
        "cv = CountVectorizer(inputCol=\"shingles\", outputCol=\"features\")\n",
        "model = cv.fit(df_shingled)\n",
        "df_vectorized = model.transform(df_shingled)\n",
        "\n",
        "#Filtering out null vectors\n",
        "df_vectorized = df_vectorized.filter(col('features').isNotNull())\n",
        "\n",
        "#Filtering out zero vectors\n",
        "def is_nonzero(v):\n",
        "    if isinstance(v, SparseVector):\n",
        "        return v.numNonzeros() > 0\n",
        "    else:  # DenseVector\n",
        "        return any(i != 0 for i in v)\n",
        "\n",
        "#Apply the filtering using RDD and then convert back to data frame\n",
        "df_vectorized = df_vectorized.rdd.filter(lambda row: is_nonzero(row['features'])).toDF()\n",
        "\n",
        "\n",
        "#Creating a window specification without any partitioning, and order by the original columns\n",
        "window_spec = Window.orderBy(df_vectorized.columns)\n",
        "\n",
        "#Adding a unique ID to the vectorized data frame\n",
        "df_vectorized = df_vectorized.withColumn(\"id\", row_number().over(window_spec) - 1)\n",
        "\n",
        "#Applying MinHashLSH\n",
        "mh = MinHashLSH(inputCol=\"features\", outputCol=\"hashes\", numHashTables=5)\n",
        "model_lsh = mh.fit(df_vectorized)\n",
        "\n",
        "#Querying for Similar Items\n",
        "threshold = 0.8\n",
        "results = model_lsh.approxSimilarityJoin(df_vectorized, df_vectorized, threshold)\\\n",
        "                   .filter(col(\"datasetA.id\") < col(\"datasetB.id\"))\\\n",
        "                   .select(\"datasetA.id\", \"datasetB.id\").collect()\n"
      ]
    },
    {
      "cell_type": "code",
      "execution_count": 22,
      "metadata": {
        "colab": {
          "base_uri": "https://localhost:8080/"
        },
        "id": "_qrW65JdLO1L",
        "outputId": "9050a656-69d0-450e-d3d2-cba7d5f95236"
      },
      "outputs": [
        {
          "output_type": "execute_result",
          "data": {
            "text/plain": [
              "10"
            ]
          },
          "metadata": {},
          "execution_count": 22
        }
      ],
      "source": [
        "#Checking the number of similar pairs\n",
        "len(results)"
      ]
    },
    {
      "cell_type": "code",
      "execution_count": 23,
      "metadata": {
        "colab": {
          "base_uri": "https://localhost:8080/"
        },
        "id": "mIX0FBOTM3ib",
        "outputId": "224f8be9-e777-40d3-c35d-7ea7bd3485fb"
      },
      "outputs": [
        {
          "output_type": "stream",
          "name": "stdout",
          "text": [
            "(8699, 8700)\n",
            "(4109, 8833)\n",
            "(3439, 6250)\n",
            "(4891, 7678)\n",
            "(8827, 9055)\n",
            "(4004, 4891)\n",
            "(4004, 7678)\n",
            "(6299, 9056)\n",
            "(6293, 8895)\n",
            "(1935, 8911)\n"
          ]
        }
      ],
      "source": [
        "#Printing the similar pairs\n",
        "for row in results:\n",
        "    print(f\"({row[0]}, {row[1]})\")"
      ]
    },
    {
      "cell_type": "code",
      "source": [],
      "metadata": {
        "id": "TVks3YEgEwaU"
      },
      "execution_count": null,
      "outputs": []
    }
  ],
  "metadata": {
    "colab": {
      "provenance": [],
      "authorship_tag": "ABX9TyOBEfoE8nU6ZG6C+dBgWLax",
      "include_colab_link": true
    },
    "kernelspec": {
      "display_name": "Python 3",
      "name": "python3"
    },
    "language_info": {
      "name": "python"
    }
  },
  "nbformat": 4,
  "nbformat_minor": 0
}